{
 "cells": [
  {
   "cell_type": "code",
   "execution_count": 291,
   "metadata": {},
   "outputs": [],
   "source": [
    "import pandas as pd\n",
    "\n",
    "import numpy as np\n",
    "\n",
    "import psycopg2"
   ]
  },
  {
   "cell_type": "code",
   "execution_count": 292,
   "metadata": {},
   "outputs": [],
   "source": [
    "data_df = pd.read_csv(\"Copia de Estudio Ciberseguridad (Respuestas) - Respuestas de formulario 1.csv\")"
   ]
  },
  {
   "cell_type": "code",
   "execution_count": null,
   "metadata": {},
   "outputs": [],
   "source": [
    "data_df"
   ]
  },
  {
   "cell_type": "code",
   "execution_count": null,
   "metadata": {},
   "outputs": [],
   "source": [
    "data_df[\"¿Para qué usas el internet?(new_column)\"] = data_df[\"¿Para qué usas el internet?\"].map(lambda x:x.split(',')[0])"
   ]
  },
  {
   "cell_type": "code",
   "execution_count": null,
   "metadata": {},
   "outputs": [],
   "source": [
    "aux=0\n",
    "\n",
    "data_df[\"¿Para qué usas el internet?(new_column)\"] = data_df[\"¿Para qué usas el internet?\"].map(lambda x:(x.split(',')))"
   ]
  },
  {
   "cell_type": "code",
   "execution_count": null,
   "metadata": {},
   "outputs": [],
   "source": [
    "data_df[\"¿Para qué usas el internet?(new_column)\"] = data_df[\"¿Para qué usas el internet?\"].map(lambda x:(x.split(',')))\n",
    "data_df[\"¿Para qué usas el internet?(new_column)\"] = data_df[\"¿Para qué usas el internet?(new_column)\"].map(lambda x:x+[None, None, None, None, None])\n",
    "data_df[\"¿Para qué usas el internet?(new_column1)\"] = data_df[\"¿Para qué usas el internet?(new_column)\"].map(lambda x:x[0])\n",
    "data_df[\"¿Para qué usas el internet?(new_column2)\"] = data_df[\"¿Para qué usas el internet?(new_column)\"].map(lambda x:x[1])\n",
    "data_df[\"¿Para qué usas el internet?(new_column3)\"] = data_df[\"¿Para qué usas el internet?(new_column)\"].map(lambda x:x[2])\n",
    "data_df[\"¿Para qué usas el internet?(new_column4)\"] = data_df[\"¿Para qué usas el internet?(new_column)\"].map(lambda x:x[3])\n",
    "data_df[\"¿Para qué usas el internet?(new_column5)\"] = data_df[\"¿Para qué usas el internet?(new_column)\"].map(lambda x:x[4])\n",
    "\n",
    "                                   "
   ]
  },
  {
   "cell_type": "code",
   "execution_count": null,
   "metadata": {},
   "outputs": [],
   "source": [
    "data_df = data_df.drop('¿Para qué usas el internet?(new_column)', axis=1)"
   ]
  },
  {
   "cell_type": "code",
   "execution_count": null,
   "metadata": {},
   "outputs": [],
   "source": [
    "data_df = data_df.drop('¿Para qué usas el internet?', axis=1)"
   ]
  },
  {
   "cell_type": "code",
   "execution_count": null,
   "metadata": {},
   "outputs": [],
   "source": [
    "data_df.replace(\"Streaming\", 4444)"
   ]
  },
  {
   "cell_type": "code",
   "execution_count": null,
   "metadata": {},
   "outputs": [],
   "source": [
    "data_df"
   ]
  },
  {
   "cell_type": "code",
   "execution_count": 293,
   "metadata": {},
   "outputs": [],
   "source": [
    "arr_preg = data_df.values.tolist()"
   ]
  },
  {
   "cell_type": "code",
   "execution_count": 294,
   "metadata": {},
   "outputs": [],
   "source": [
    "edad =\"\"\n",
    "genero=\"\"\n",
    "estudio=\"\"\n",
    "conn = psycopg2.connect(database=\"postgres\", user = \"postgres\", password = \"admin\", host = \"104.155.168.70\", port = \"5432\", options=\"-c search_path=proyecto\")\n",
    "cur = conn.cursor()\n",
    "for x in range(4):\n",
    "    edad = arr_preg[x][1]\n",
    "    genero = arr_preg[x][2]\n",
    "    estudio = arr_preg[x][3]\n",
    "    cur.execute(\"insert into persona (edad, genero, area_estudio) values(%s, %s, %s)\", (edad, genero, estudio))\n",
    "    conn.commit()\n"
   ]
  },
  {
   "cell_type": "code",
   "execution_count": null,
   "metadata": {},
   "outputs": [],
   "source": [
    "print(edad)\n",
    "print(genero)\n",
    "print(estudio)"
   ]
  },
  {
   "cell_type": "code",
   "execution_count": null,
   "metadata": {},
   "outputs": [],
   "source": [
    "for x in arr_preg[0]:\n",
    "    if type(x) == str:\n",
    "        print(x, type(x))\n",
    " "
   ]
  },
  {
   "cell_type": "code",
   "execution_count": null,
   "metadata": {},
   "outputs": [],
   "source": [
    "import psycopg2"
   ]
  },
  {
   "cell_type": "code",
   "execution_count": null,
   "metadata": {},
   "outputs": [],
   "source": [
    "conn = psycopg2.connect(database=\"postgres\", user = \"postgres\", password = \"admin\", host = \"104.155.168.70\", port = \"5432\", options=\"-c search_path=proyecto\")"
   ]
  },
  {
   "cell_type": "code",
   "execution_count": null,
   "metadata": {},
   "outputs": [],
   "source": [
    "cur = conn.cursor()"
   ]
  },
  {
   "cell_type": "code",
   "execution_count": null,
   "metadata": {},
   "outputs": [],
   "source": [
    "cur.execute(\"insert into persona (edad, genero, area_estudio) values(%s, %s, %s)\", (\"21-24\", \"Masculino\", \"Ciencias Sociales\"))\n",
    "\n",
    "\n",
    "\n"
   ]
  },
  {
   "cell_type": "code",
   "execution_count": null,
   "metadata": {},
   "outputs": [],
   "source": [
    "cur.fetchall()"
   ]
  },
  {
   "cell_type": "code",
   "execution_count": null,
   "metadata": {},
   "outputs": [],
   "source": [
    "conn.commit()"
   ]
  },
  {
   "cell_type": "code",
   "execution_count": 295,
   "metadata": {},
   "outputs": [],
   "source": [
    "cur.close()\n",
    "\n",
    "conn.close()"
   ]
  }
 ],
 "metadata": {
  "interpreter": {
   "hash": "aee8b7b246df8f9039afb4144a1f6fd8d2ca17a180786b69acc140d282b71a49"
  },
  "kernelspec": {
   "display_name": "Python 3.9.0 64-bit",
   "language": "python",
   "name": "python3"
  },
  "language_info": {
   "codemirror_mode": {
    "name": "ipython",
    "version": 3
   },
   "file_extension": ".py",
   "mimetype": "text/x-python",
   "name": "python",
   "nbconvert_exporter": "python",
   "pygments_lexer": "ipython3",
   "version": "3.9.0"
  },
  "orig_nbformat": 4
 },
 "nbformat": 4,
 "nbformat_minor": 2
}
