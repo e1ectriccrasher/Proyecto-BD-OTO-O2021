{
 "cells": [
  {
   "cell_type": "code",
   "execution_count": 41,
   "metadata": {},
   "outputs": [],
   "source": [
    "import pandas as pd\n",
    "\n",
    "import numpy as np\n",
    "\n",
    "import psycopg2"
   ]
  },
  {
   "cell_type": "code",
   "execution_count": 42,
   "metadata": {},
   "outputs": [],
   "source": [
    "data_df = pd.read_csv(\"Copia de Estudio Ciberseguridad (Respuestas) - Respuestas de formulario 1.csv\")"
   ]
  },
  {
   "cell_type": "code",
   "execution_count": 43,
   "metadata": {},
   "outputs": [],
   "source": [
    "arr_preg = data_df.values.tolist()"
   ]
  },
  {
   "cell_type": "code",
   "execution_count": 44,
   "metadata": {},
   "outputs": [
    {
     "name": "stdout",
     "output_type": "stream",
     "text": [
      "161\n"
     ]
    }
   ],
   "source": [
    "index = data_df.index\n",
    "\n",
    "num_datos = len(index)\n",
    "\n",
    "print(num_datos)"
   ]
  },
  {
   "cell_type": "code",
   "execution_count": 45,
   "metadata": {},
   "outputs": [],
   "source": [
    "\n",
    "conn = psycopg2.connect(database=\"postgres\", user = \"postgres\", password = \"admin\", host = \"104.155.168.70\", port = \"5432\", options=\"-c search_path=proyecto\")\n",
    "cur = conn.cursor()\n",
    "for x in range(1,num_datos+1):\n",
    "    encuesta =1\n",
    "    cur.execute(\"insert into persona_encuesta (id_persona, id_encuesta) values(%s, %s)\", (x, encuesta))\n",
    "    conn.commit()\n"
   ]
  },
  {
   "cell_type": "code",
   "execution_count": 46,
   "metadata": {},
   "outputs": [],
   "source": [
    "cur.close()\n",
    "\n",
    "conn.close()"
   ]
  }
 ],
 "metadata": {
  "interpreter": {
   "hash": "1122b87c974a52b49a9875b5cdf21a19ba48ef1d070426404ab7fb9b6c0ad7fa"
  },
  "kernelspec": {
   "display_name": "Python 3.9.5 64-bit (conda)",
   "language": "python",
   "name": "python3"
  },
  "language_info": {
   "codemirror_mode": {
    "name": "ipython",
    "version": 3
   },
   "file_extension": ".py",
   "mimetype": "text/x-python",
   "name": "python",
   "nbconvert_exporter": "python",
   "pygments_lexer": "ipython3",
   "version": "3.9.0"
  },
  "orig_nbformat": 4
 },
 "nbformat": 4,
 "nbformat_minor": 2
}
