{
 "cells": [
  {
   "cell_type": "code",
   "execution_count": 38,
   "metadata": {},
   "outputs": [],
   "source": [
    "import pandas as pd\n",
    "\n",
    "import numpy as np\n",
    "\n",
    "import psycopg2"
   ]
  },
  {
   "cell_type": "code",
   "execution_count": 39,
   "metadata": {},
   "outputs": [],
   "source": [
    "data_df = pd.read_csv(\"Copia de Estudio Ciberseguridad (Respuestas) - Respuestas de formulario 1.csv\")"
   ]
  },
  {
   "cell_type": "code",
   "execution_count": 40,
   "metadata": {},
   "outputs": [],
   "source": [
    "arr_preg = data_df.values.tolist()"
   ]
  },
  {
   "cell_type": "code",
   "execution_count": 41,
   "metadata": {},
   "outputs": [
    {
     "data": {
      "text/plain": [
       "'Muy importante'"
      ]
     },
     "execution_count": 41,
     "metadata": {},
     "output_type": "execute_result"
    }
   ],
   "source": [
    "arr_preg[1][4]"
   ]
  },
  {
   "cell_type": "code",
   "execution_count": 42,
   "metadata": {},
   "outputs": [
    {
     "name": "stdout",
     "output_type": "stream",
     "text": [
      "161\n"
     ]
    }
   ],
   "source": [
    "index = data_df.index\n",
    "\n",
    "num_datos = len(index)\n",
    "\n",
    "print(num_datos)"
   ]
  },
  {
   "cell_type": "code",
   "execution_count": 43,
   "metadata": {},
   "outputs": [],
   "source": [
    "edad =\"\"\n",
    "genero=\"\"\n",
    "estudio=\"\"\n",
    "conn = psycopg2.connect(database=\"postgres\", user = \"postgres\", password = \"admin\", host = \"104.155.168.70\", port = \"5432\", options=\"-c search_path=proyecto\")\n",
    "cur = conn.cursor()\n",
    "for x in range(num_datos):\n",
    "    edad = arr_preg[x][1]\n",
    "    genero = arr_preg[x][2]\n",
    "    estudio = arr_preg[x][3]\n",
    "    cur.execute(\"insert into persona (edad, genero, area_estudio) values(%s, %s, %s)\", (edad, genero, estudio))\n",
    "    conn.commit()\n"
   ]
  },
  {
   "cell_type": "code",
   "execution_count": 44,
   "metadata": {},
   "outputs": [],
   "source": [
    "cur.close()\n",
    "\n",
    "conn.close()"
   ]
  }
 ],
 "metadata": {
  "interpreter": {
   "hash": "1122b87c974a52b49a9875b5cdf21a19ba48ef1d070426404ab7fb9b6c0ad7fa"
  },
  "kernelspec": {
   "display_name": "Python 3.9.5 64-bit (conda)",
   "language": "python",
   "name": "python3"
  },
  "language_info": {
   "codemirror_mode": {
    "name": "ipython",
    "version": 3
   },
   "file_extension": ".py",
   "mimetype": "text/x-python",
   "name": "python",
   "nbconvert_exporter": "python",
   "pygments_lexer": "ipython3",
   "version": "3.9.0"
  },
  "orig_nbformat": 4
 },
 "nbformat": 4,
 "nbformat_minor": 2
}
